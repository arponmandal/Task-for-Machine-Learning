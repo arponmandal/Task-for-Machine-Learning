{
 "cells": [
  {
   "cell_type": "code",
   "execution_count": 1,
   "id": "7a81c28b",
   "metadata": {
    "execution": {
     "iopub.execute_input": "2025-04-29T14:50:14.965208Z",
     "iopub.status.busy": "2025-04-29T14:50:14.964557Z",
     "iopub.status.idle": "2025-04-29T14:50:14.968093Z",
     "shell.execute_reply": "2025-04-29T14:50:14.967615Z"
    },
    "papermill": {
     "duration": 0.007493,
     "end_time": "2025-04-29T14:50:14.969102",
     "exception": false,
     "start_time": "2025-04-29T14:50:14.961609",
     "status": "completed"
    },
    "tags": []
   },
   "outputs": [],
   "source": [
    "# Name: Arpon Mandal\n",
    "# Email: arponmandal69@gmail.com"
   ]
  },
  {
   "cell_type": "code",
   "execution_count": 2,
   "id": "16a2a9b5",
   "metadata": {
    "_cell_guid": "b1076dfc-b9ad-4769-8c92-a6c4dae69d19",
    "_uuid": "8f2839f25d086af736a60e9eeb907d3b93b6e0e5",
    "execution": {
     "iopub.execute_input": "2025-04-29T14:50:14.973340Z",
     "iopub.status.busy": "2025-04-29T14:50:14.973150Z",
     "iopub.status.idle": "2025-04-29T14:50:25.802507Z",
     "shell.execute_reply": "2025-04-29T14:50:25.801723Z"
    },
    "papermill": {
     "duration": 10.833038,
     "end_time": "2025-04-29T14:50:25.804122",
     "exception": false,
     "start_time": "2025-04-29T14:50:14.971084",
     "status": "completed"
    },
    "tags": []
   },
   "outputs": [],
   "source": [
    "# Required Libraries\n",
    "import numpy as np\n",
    "import pandas as pd\n",
    "import os, zipfile, shutil, random, time\n",
    "import matplotlib.pyplot as plt\n",
    "\n",
    "from sklearn.metrics import accuracy_score, precision_score, recall_score, f1_score, classification_report\n",
    "\n",
    "import torch\n",
    "from torch import nn\n",
    "from torch.optim import SGD, lr_scheduler\n",
    "from torch.autograd import Variable\n",
    "from torchvision import transforms as T, models\n",
    "from torchvision.datasets import ImageFolder\n",
    "from torch.utils.data import DataLoader\n",
    "\n",
    "# Device\n",
    "device = torch.device(\"cuda\" if torch.cuda.is_available() else \"cpu\")"
   ]
  },
  {
   "cell_type": "code",
   "execution_count": 3,
   "id": "7717acb3",
   "metadata": {
    "execution": {
     "iopub.execute_input": "2025-04-29T14:50:25.808985Z",
     "iopub.status.busy": "2025-04-29T14:50:25.808655Z",
     "iopub.status.idle": "2025-04-29T14:50:37.554655Z",
     "shell.execute_reply": "2025-04-29T14:50:37.553843Z"
    },
    "papermill": {
     "duration": 11.750051,
     "end_time": "2025-04-29T14:50:37.556138",
     "exception": false,
     "start_time": "2025-04-29T14:50:25.806087",
     "status": "completed"
    },
    "tags": []
   },
   "outputs": [
    {
     "name": "stderr",
     "output_type": "stream",
     "text": [
      "Downloading: \"https://download.pytorch.org/models/resnet18-f37072fd.pth\" to /root/.cache/torch/hub/checkpoints/resnet18-f37072fd.pth\n",
      "100%|██████████| 44.7M/44.7M [00:00<00:00, 187MB/s]\n"
     ]
    }
   ],
   "source": [
    "# Paths\n",
    "train_zip_path = \"/kaggle/input/dogs-vs-cats/train.zip\"\n",
    "train_images_path = \"/kaggle/working/training/\"\n",
    "os.makedirs(train_images_path, exist_ok=True)\n",
    "\n",
    "# Unzip\n",
    "with zipfile.ZipFile(train_zip_path) as zip_f:\n",
    "    zip_f.extractall(train_images_path)\n",
    "\n",
    "# Prepare Folders\n",
    "os.makedirs(\"training/Train/cat\", exist_ok=True)\n",
    "os.makedirs(\"training/Train/dog\", exist_ok=True)\n",
    "os.makedirs(\"training/Valid/cat\", exist_ok=True)\n",
    "os.makedirs(\"training/Valid/dog\", exist_ok=True)\n",
    "\n",
    "# Organize Train/Valid\n",
    "all_images = os.listdir(\"training/train\")\n",
    "for file in all_images:\n",
    "    cls = file.split(\".\")[0].lower()\n",
    "    os.rename(f\"training/train/{file}\", f\"training/Train/{cls}/{file}\")\n",
    "shutil.rmtree(\"training/train\")\n",
    "\n",
    "# Validation Split\n",
    "for cls in ['cat', 'dog']:\n",
    "    src = f\"training/Train/{cls}\"\n",
    "    dst = f\"training/Valid/{cls}\"\n",
    "    val_files = random.sample(os.listdir(src), len(os.listdir(src)) // 5)\n",
    "    for f in val_files:\n",
    "        shutil.move(os.path.join(src, f), dst)\n",
    "\n",
    "# Transforms\n",
    "transform = T.Compose([\n",
    "    T.Resize((224, 224)),\n",
    "    T.ToTensor(),\n",
    "    T.Normalize([0.485, 0.456, 0.406], [0.229, 0.224, 0.225])\n",
    "])\n",
    "\n",
    "# Datasets & Loaders\n",
    "train_data = ImageFolder(\"training/Train\", transform)\n",
    "valid_data = ImageFolder(\"training/Valid\", transform)\n",
    "train_loader = DataLoader(train_data, batch_size=32, shuffle=True, num_workers=2)\n",
    "valid_loader = DataLoader(valid_data, batch_size=32, shuffle=False, num_workers=2)\n",
    "dataloaders = {'train': train_loader, 'val': valid_loader}\n",
    "dataset_sizes = {'train': len(train_data), 'val': len(valid_data)}\n",
    "\n",
    "# Model - Transfer Learning (ResNet18)\n",
    "model = models.resnet18(weights=models.ResNet18_Weights.DEFAULT)\n",
    "model.fc = nn.Linear(model.fc.in_features, 2)\n",
    "model = model.to(device)\n",
    "\n",
    "# Criterion, Optimizer, Scheduler\n",
    "criterion = nn.CrossEntropyLoss()\n",
    "optimizer = SGD(model.parameters(), lr=0.001, momentum=0.9)\n",
    "scheduler = lr_scheduler.StepLR(optimizer, step_size=7, gamma=0.1)"
   ]
  },
  {
   "cell_type": "code",
   "execution_count": 4,
   "id": "22ade783",
   "metadata": {
    "execution": {
     "iopub.execute_input": "2025-04-29T14:50:37.561259Z",
     "iopub.status.busy": "2025-04-29T14:50:37.561048Z",
     "iopub.status.idle": "2025-04-29T14:50:37.568656Z",
     "shell.execute_reply": "2025-04-29T14:50:37.567948Z"
    },
    "papermill": {
     "duration": 0.011551,
     "end_time": "2025-04-29T14:50:37.569950",
     "exception": false,
     "start_time": "2025-04-29T14:50:37.558399",
     "status": "completed"
    },
    "tags": []
   },
   "outputs": [],
   "source": [
    "# Train Model\n",
    "train_acc_history, val_acc_history = [], []\n",
    "train_loss_history, val_loss_history = [], []\n",
    "\n",
    "def train_model(model, num_epochs=6):\n",
    "    best_model_wts = model.state_dict()\n",
    "    best_acc = 0.0\n",
    "    \n",
    "    for epoch in range(num_epochs):\n",
    "        print(f\"Epoch {epoch+1}/{num_epochs}\")\n",
    "        for phase in ['train', 'val']:\n",
    "            if phase == 'train':\n",
    "                model.train()\n",
    "            else:\n",
    "                model.eval()\n",
    "\n",
    "            running_loss = 0.0\n",
    "            running_corrects = 0\n",
    "\n",
    "            for inputs, labels in dataloaders[phase]:\n",
    "                inputs, labels = inputs.to(device), labels.to(device)\n",
    "                optimizer.zero_grad()\n",
    "                with torch.set_grad_enabled(phase == 'train'):\n",
    "                    outputs = model(inputs)\n",
    "                    _, preds = torch.max(outputs, 1)\n",
    "                    loss = criterion(outputs, labels)\n",
    "                    if phase == 'train':\n",
    "                        loss.backward()\n",
    "                        optimizer.step()\n",
    "                running_loss += loss.item() * inputs.size(0)\n",
    "                running_corrects += torch.sum(preds == labels.data)\n",
    "\n",
    "            epoch_loss = running_loss / dataset_sizes[phase]\n",
    "            epoch_acc = running_corrects.double() / dataset_sizes[phase]\n",
    "\n",
    "            if phase == 'train':\n",
    "                train_loss_history.append(epoch_loss)\n",
    "                train_acc_history.append(epoch_acc.item())\n",
    "            else:\n",
    "                val_loss_history.append(epoch_loss)\n",
    "                val_acc_history.append(epoch_acc.item())\n",
    "                if epoch_acc > best_acc:\n",
    "                    best_acc = epoch_acc\n",
    "                    best_model_wts = model.state_dict()\n",
    "\n",
    "            print(f\"{phase.capitalize()} Loss: {epoch_loss:.4f} Acc: {epoch_acc:.4f}\")\n",
    "\n",
    "        scheduler.step()\n",
    "        print(\"-\")\n",
    "\n",
    "    print(f\"Best Validation Acc: {best_acc:.4f}\")\n",
    "    model.load_state_dict(best_model_wts)\n",
    "    return model"
   ]
  },
  {
   "cell_type": "code",
   "execution_count": 5,
   "id": "51f62c09",
   "metadata": {
    "execution": {
     "iopub.execute_input": "2025-04-29T14:50:37.574881Z",
     "iopub.status.busy": "2025-04-29T14:50:37.574437Z",
     "iopub.status.idle": "2025-04-29T14:58:13.500053Z",
     "shell.execute_reply": "2025-04-29T14:58:13.499051Z"
    },
    "papermill": {
     "duration": 455.929273,
     "end_time": "2025-04-29T14:58:13.501300",
     "exception": false,
     "start_time": "2025-04-29T14:50:37.572027",
     "status": "completed"
    },
    "tags": []
   },
   "outputs": [
    {
     "name": "stdout",
     "output_type": "stream",
     "text": [
      "Epoch 1/6\n",
      "Train Loss: 0.0772 Acc: 0.9694\n",
      "Val Loss: 0.0362 Acc: 0.9872\n",
      "-\n",
      "Epoch 2/6\n",
      "Train Loss: 0.0340 Acc: 0.9887\n",
      "Val Loss: 0.0287 Acc: 0.9888\n",
      "-\n",
      "Epoch 3/6\n",
      "Train Loss: 0.0188 Acc: 0.9937\n",
      "Val Loss: 0.0321 Acc: 0.9896\n",
      "-\n",
      "Epoch 4/6\n",
      "Train Loss: 0.0101 Acc: 0.9975\n",
      "Val Loss: 0.0312 Acc: 0.9892\n",
      "-\n",
      "Epoch 5/6\n",
      "Train Loss: 0.0080 Acc: 0.9978\n",
      "Val Loss: 0.0313 Acc: 0.9900\n",
      "-\n",
      "Epoch 6/6\n",
      "Train Loss: 0.0054 Acc: 0.9986\n",
      "Val Loss: 0.0311 Acc: 0.9892\n",
      "-\n",
      "Best Validation Acc: 0.9900\n"
     ]
    }
   ],
   "source": [
    "model = train_model(model)\n"
   ]
  },
  {
   "cell_type": "code",
   "execution_count": 6,
   "id": "6f5b30fc",
   "metadata": {
    "execution": {
     "iopub.execute_input": "2025-04-29T14:58:13.507521Z",
     "iopub.status.busy": "2025-04-29T14:58:13.507294Z",
     "iopub.status.idle": "2025-04-29T14:58:13.838586Z",
     "shell.execute_reply": "2025-04-29T14:58:13.837840Z"
    },
    "papermill": {
     "duration": 0.33573,
     "end_time": "2025-04-29T14:58:13.839763",
     "exception": false,
     "start_time": "2025-04-29T14:58:13.504033",
     "status": "completed"
    },
    "tags": []
   },
   "outputs": [
    {
     "data": {
      "image/png": "[encoded data removed]",
      "text/plain": [
       "<Figure size 1200x500 with 2 Axes>"
      ]
     },
     "metadata": {},
     "output_type": "display_data"
    }
   ],
   "source": [
    "# Plot Accuracy and Loss Curves\n",
    "plt.figure(figsize=(12, 5))\n",
    "plt.subplot(1, 2, 1)\n",
    "plt.plot(train_acc_history, label='Train Acc')\n",
    "plt.plot(val_acc_history, label='Val Acc')\n",
    "plt.title('Accuracy Curve')\n",
    "plt.legend()\n",
    "\n",
    "plt.subplot(1, 2, 2)\n",
    "plt.plot(train_loss_history, label='Train Loss')\n",
    "plt.plot(val_loss_history, label='Val Loss')\n",
    "plt.title('Loss Curve')\n",
    "plt.legend()\n",
    "plt.show()"
   ]
  },
  {
   "cell_type": "code",
   "execution_count": 7,
   "id": "8a03f377",
   "metadata": {
    "execution": {
     "iopub.execute_input": "2025-04-29T14:58:13.847426Z",
     "iopub.status.busy": "2025-04-29T14:58:13.847041Z",
     "iopub.status.idle": "2025-04-29T14:58:24.967180Z",
     "shell.execute_reply": "2025-04-29T14:58:24.965996Z"
    },
    "papermill": {
     "duration": 11.125065,
     "end_time": "2025-04-29T14:58:24.968398",
     "exception": false,
     "start_time": "2025-04-29T14:58:13.843333",
     "status": "completed"
    },
    "tags": []
   },
   "outputs": [
    {
     "name": "stdout",
     "output_type": "stream",
     "text": [
      "\n",
      "Classification Report:\n",
      "              precision    recall  f1-score   support\n",
      "\n",
      "         cat       0.99      0.99      0.99      2500\n",
      "         dog       0.99      0.99      0.99      2500\n",
      "\n",
      "    accuracy                           0.99      5000\n",
      "   macro avg       0.99      0.99      0.99      5000\n",
      "weighted avg       0.99      0.99      0.99      5000\n",
      "\n"
     ]
    }
   ],
   "source": [
    "# Evaluation Metrics on Validation Set\n",
    "y_true, y_pred = [], []\n",
    "model.eval()\n",
    "\n",
    "with torch.no_grad():\n",
    "    for inputs, labels in valid_loader:\n",
    "        inputs = inputs.to(device)\n",
    "        labels = labels.to(device)\n",
    "        outputs = model(inputs)\n",
    "        _, preds = torch.max(outputs, 1)\n",
    "        y_true.extend(labels.cpu().numpy())\n",
    "        y_pred.extend(preds.cpu().numpy())\n",
    "\n",
    "print(\"\\nClassification Report:\")\n",
    "print(classification_report(y_true, y_pred, target_names=valid_data.classes))"
   ]
  }
 ],
 "metadata": {
  "kaggle": {
   "accelerator": "nvidiaTeslaT4",
   "dataSources": [
    {
     "databundleVersionId": 31148,
     "sourceId": 3362,
     "sourceType": "competition"
    }
   ],
   "dockerImageVersionId": 31011,
   "isGpuEnabled": true,
   "isInternetEnabled": true,
   "language": "python",
   "sourceType": "notebook"
  },
  "kernelspec": {
   "display_name": "Python 3",
   "language": "python",
   "name": "python3"
  },
  "language_info": {
   "codemirror_mode": {
    "name": "ipython",
    "version": 3
   },
   "file_extension": ".py",
   "mimetype": "text/x-python",
   "name": "python",
   "nbconvert_exporter": "python",
   "pygments_lexer": "ipython3",
   "version": "3.11.11"
  },
  "papermill": {
   "default_parameters": {},
   "duration": 496.418593,
   "end_time": "2025-04-29T14:58:27.442509",
   "environment_variables": {},
   "exception": null,
   "input_path": "__notebook__.ipynb",
   "output_path": "__notebook__.ipynb",
   "parameters": {},
   "start_time": "2025-04-29T14:50:11.023916",
   "version": "2.6.0"
  }
 },
 "nbformat": 4,
 "nbformat_minor": 5
}
